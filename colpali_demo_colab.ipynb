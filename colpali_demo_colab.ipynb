{
 "cells": [
  {
   "cell_type": "markdown",
   "metadata": {},
   "source": [
    "# ColPali RAG System Demo (Google Colab)\n",
    "\n",
    "This notebook demonstrates the ColPali-based RAG system with GPU acceleration.\n",
    "\n",
    "**Before running:** Set Runtime > Change runtime type > Hardware accelerator > GPU (T4 recommended)"
   ]
  },
  {
   "cell_type": "markdown",
   "metadata": {},
   "source": [
    "## 1. Install Dependencies"
   ]
  },
  {
   "cell_type": "code",
   "execution_count": null,
   "metadata": {},
   "outputs": [],
   "source": "# Install system dependencies for PDF processing\n!apt-get update -qq\n!apt-get install -y -qq poppler-utils\n\n# Install Python packages\n!pip install -q colpali-engine pdf2image Pillow torch torchvision openai chromadb"
  },
  {
   "cell_type": "markdown",
   "metadata": {},
   "source": "## 2. Mount Google Drive (Recommended)\n\nUpload the entire `colpali_colab_upload/` folder to your Google Drive, then mount it here."
  },
  {
   "cell_type": "code",
   "execution_count": null,
   "metadata": {},
   "outputs": [],
   "source": "from google.colab import drive\nimport os\n\n# Mount Google Drive\ndrive.mount('/content/drive')\n\n# Change to the uploaded folder\nBASE_DIR = '/content/drive/MyDrive/colpali_colab_upload'\nos.chdir(BASE_DIR)\n\nprint(f\"Working directory: {os.getcwd()}\")\nprint(f\"\\nFiles in directory:\")\n!ls -la"
  },
  {
   "cell_type": "markdown",
   "metadata": {},
   "source": "## 3. Check GPU Availability"
  },
  {
   "cell_type": "code",
   "execution_count": null,
   "metadata": {},
   "outputs": [],
   "source": [
    "import torch\n",
    "print(f\"CUDA available: {torch.cuda.is_available()}\")\n",
    "if torch.cuda.is_available():\n",
    "    print(f\"GPU: {torch.cuda.get_device_name(0)}\")\n",
    "    print(f\"CUDA version: {torch.version.cuda}\")"
   ]
  },
  {
   "cell_type": "markdown",
   "metadata": {},
   "source": [
    "## 4. Load and Test System"
   ]
  },
  {
   "cell_type": "code",
   "execution_count": null,
   "metadata": {},
   "outputs": [],
   "source": "import json\nimport os\nfrom colpali_rag_system import ColPaliRAGSystem\n\n# Initialize RAG system (will use GPU if available)\nprint(\"Initializing ColPali RAG System...\")\nrag = ColPaliRAGSystem()\nprint(\"System initialized!\")\n\n# Show stats\nstats = rag.get_stats()\nprint(f\"\\nCurrent stats: {stats}\")"
  },
  {
   "cell_type": "markdown",
   "metadata": {},
   "source": [
    "## 5. Load Posts from Dashboard"
   ]
  },
  {
   "cell_type": "code",
   "execution_count": null,
   "metadata": {},
   "outputs": [],
   "source": [
    "# Load posts\n",
    "posts_file = 'posts/dashboard.json'\n",
    "posts_base_dir = 'posts'\n",
    "\n",
    "with open(posts_file, 'r') as f:\n",
    "    data = json.load(f)\n",
    "\n",
    "posts = data['posts']\n",
    "print(f\"Found {len(posts)} posts\")\n",
    "\n",
    "# Show what will be processed\n",
    "for post in posts:\n",
    "    attachments = post.get('attachments', [])\n",
    "    image_atts = [att for att in attachments if att.get('file_type') in ['pdf', 'image']]\n",
    "    if image_atts:\n",
    "        print(f\"\\nPost: {post['title']}\")\n",
    "        for att in image_atts:\n",
    "            print(f\"  - {att['file_type']}: {att['filename']}\")"
   ]
  },
  {
   "cell_type": "markdown",
   "metadata": {},
   "source": [
    "## 6. Process Posts"
   ]
  },
  {
   "cell_type": "code",
   "execution_count": null,
   "metadata": {},
   "outputs": [],
   "source": "print(\"\\nProcessing posts...\\n\")\n\nfor i, post in enumerate(posts, 1):\n    print(f\"[{i}/{len(posts)}] Processing: {post['title']}\")\n    \n    result = rag.add_post(post, base_dir=posts_base_dir)\n    \n    if result['success']:\n        if result.get('skipped'):\n            print(f\"  → Already processed\")\n        else:\n            texts = result.get('texts', 0)\n            pdf_count = result.get('pdf_count', 0)\n            image_count = result.get('image_file_count', 0)\n            total_pages = result.get('total_pages', 0)\n            \n            parts = []\n            if texts > 0:\n                parts.append(f\"{texts} text\")\n            if pdf_count > 0:\n                parts.append(f\"{pdf_count} pdf ({total_pages} pages)\")\n            if image_count > 0:\n                parts.append(f\"{image_count} image\" if image_count == 1 else f\"{image_count} images\")\n            \n            print(f\"  → Added: {', '.join(parts)}\")\n    else:\n        print(f\"  → Failed\")\n\nprint(\"\\nAll posts processed!\")\n\n# Show final stats\nstats = rag.get_stats()\nprint(f\"\\nFinal stats:\")\nprint(f\"  Total text items: {stats['total_texts']}\")\nprint(f\"  Total image items: {stats['total_images']}\")\nprint(f\"  Total items: {stats['total_items']}\")"
  },
  {
   "cell_type": "markdown",
   "metadata": {},
   "source": [
    "## 7. Test Queries"
   ]
  },
  {
   "cell_type": "code",
   "execution_count": null,
   "metadata": {},
   "outputs": [],
   "source": [
    "queries = [\n",
    "    \"Where can we get the solution for assignment 2 question 5b\",\n",
    "    \"When can we get assignment 2 solutions?\",\n",
    "    \"Looking for final project group\",\n",
    "]\n",
    "\n",
    "for i, query in enumerate(queries, 1):\n",
    "    print(f\"\\n{'='*70}\")\n",
    "    print(f\"Query {i}: \\\"{query}\\\"\")\n",
    "    print('='*70)\n",
    "\n",
    "    results = rag.retrieve(query, n_results=5, similarity_threshold=0.5)\n",
    "\n",
    "    # Show top match\n",
    "    top = results['top_match']\n",
    "    if top:\n",
    "        print(f\"\\n→ TOP MATCH: POST - {top['title']}\")\n",
    "        print(f\"  Author: {top.get('author', 'Unknown')}\")\n",
    "        print(f\"  Similarity: {top.get('similarity', 0):.4f}\")\n",
    "\n",
    "        if top.get('matched_via') == 'image':\n",
    "            file_type = top.get('matched_file_type', 'unknown')\n",
    "            print(f\"  Matched via {file_type}: {top['matched_image']}\")\n",
    "        else:\n",
    "            print(f\"  Matched via post text\")\n",
    "\n",
    "        # Show attachments\n",
    "        attachments = top.get('attachments', [])\n",
    "        if attachments:\n",
    "            print(f\"\\n  Attachments in post:\")\n",
    "            for att in attachments:\n",
    "                print(f\"    • {att['filename']} ({att['file_type']})\")\n",
    "    else:\n",
    "        print(f\"\\n→ No relevant information found\")\n",
    "\n",
    "    # Show similar posts\n",
    "    if results['similar_posts']:\n",
    "        print(f\"\\n  Similar posts:\")\n",
    "        for j, post in enumerate(results['similar_posts'][:3], 1):\n",
    "            print(f\"    {j}. {post['title']} (sim: {post.get('similarity', 0):.4f})\")\n",
    "\n",
    "    # Show course materials\n",
    "    if results['course_materials']:\n",
    "        print(f\"\\n  Related materials:\")\n",
    "        for j, material in enumerate(results['course_materials'][:3], 1):\n",
    "            print(f\"    {j}. {material['filename']} (sim: {material.get('similarity', 0):.4f})\")"
   ]
  },
  {
   "cell_type": "markdown",
   "metadata": {},
   "source": [
    "## 8. Custom Query\n",
    "\n",
    "Try your own query:"
   ]
  },
  {
   "cell_type": "code",
   "execution_count": null,
   "metadata": {},
   "outputs": [],
   "source": [
    "# Your custom query\n",
    "custom_query = \"Your question here\"\n",
    "\n",
    "results = rag.retrieve(custom_query, n_results=5)\n",
    "\n",
    "top = results['top_match']\n",
    "if top:\n",
    "    print(f\"TOP MATCH: {top['title']}\")\n",
    "    print(f\"Similarity: {top.get('similarity', 0):.4f}\")\n",
    "    print(f\"Matched via: {top.get('matched_via')}\")\n",
    "else:\n",
    "    print(\"No relevant match found\")"
   ]
  },
  {
   "cell_type": "markdown",
   "metadata": {},
   "source": [
    "## 9. Download Results\n",
    "\n",
    "Download the processed embeddings to use later:"
   ]
  },
  {
   "cell_type": "code",
   "execution_count": null,
   "metadata": {},
   "outputs": [],
   "source": [
    "# Zip the database folder\n",
    "!zip -r colpali_rag_db.zip colpali_rag_db/\n",
    "\n",
    "# Download\n",
    "from google.colab import files\n",
    "files.download('colpali_rag_db.zip')"
   ]
  }
 ],
 "metadata": {
  "kernelspec": {
   "display_name": "Python 3",
   "language": "python",
   "name": "python3"
  },
  "language_info": {
   "name": "python",
   "version": "3.10.0"
  },
  "accelerator": "GPU"
 },
 "nbformat": 4,
 "nbformat_minor": 0
}