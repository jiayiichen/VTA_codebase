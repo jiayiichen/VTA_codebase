{
 "cells": [
  {
   "cell_type": "code",
   "execution_count": 1,
   "id": "b63ea2a4",
   "metadata": {},
   "outputs": [
    {
     "name": "stderr",
     "output_type": "stream",
     "text": [
      "/home/sylvia/.local/lib/python3.10/site-packages/tqdm/auto.py:21: TqdmWarning: IProgress not found. Please update jupyter and ipywidgets. See https://ipywidgets.readthedocs.io/en/stable/user_install.html\n",
      "  from .autonotebook import tqdm as notebook_tqdm\n"
     ]
    }
   ],
   "source": [
    "import dspy\n",
    "import pandas"
   ]
  },
  {
   "cell_type": "code",
   "execution_count": 2,
   "id": "10748212",
   "metadata": {},
   "outputs": [
    {
     "data": {
      "text/plain": [
       "Index(['discussion_post_id', 'discussion_post_content_clean',\n",
       "       'discussion_post_classification', 'discussion_topic', 'course_title',\n",
       "       'course_desc', 'context_independence', 'parent_discussion_post_id',\n",
       "       'llama_70b_ta_response',\n",
       "       'Clarify misunderstandings and address questions',\n",
       "       'Deepen Disciplinary Understanding', 'Develop Higher-Order Thinking',\n",
       "       'Enhance Metacognitive Awareness',\n",
       "       'Foster Collaborative Knowledge Construction and Social Presence'],\n",
       "      dtype='object')"
      ]
     },
     "execution_count": 2,
     "metadata": {},
     "output_type": "execute_result"
    }
   ],
   "source": [
    "df_data = pandas.read_excel(\"300 revised.xlsx\")\n",
    "df_data.columns"
   ]
  },
  {
   "cell_type": "code",
   "execution_count": 3,
   "id": "825c7d53",
   "metadata": {},
   "outputs": [
    {
     "data": {
      "text/plain": [
       "Index(['Unnamed: 0.1', 'Unnamed: 0', 'discussion_post_id',\n",
       "       'discussion_post_content_clean', 'discussion_post_classification',\n",
       "       'discussion_topic', 'course_title', 'course_desc',\n",
       "       'context_independence', 'parent_discussion_post_id', 'mellon_id',\n",
       "       'discussion_context', 'llama_70b_ta_response_with_similar',\n",
       "       'Clarify misunderstandings and address questions',\n",
       "       'Deepen Disciplinary Understanding', 'Develop Higher-Order Thinking',\n",
       "       'Enhance Metacognitive Awareness',\n",
       "       'Foster Collaborative Knowledge Construction and Social Presence',\n",
       "       'Unnamed: 18', 'Unnamed: 19'],\n",
       "      dtype='object')"
      ]
     },
     "execution_count": 3,
     "metadata": {},
     "output_type": "execute_result"
    }
   ],
   "source": [
    "df_topic_ann = pandas.read_csv(\"300_with_context_annotation.csv\")\n",
    "df_topic_ann.columns"
   ]
  },
  {
   "cell_type": "code",
   "execution_count": 4,
   "id": "c8628816",
   "metadata": {},
   "outputs": [],
   "source": [
    "import random\n",
    "random.seed(42)\n",
    "\n",
    "# first set of selections\n",
    "import numpy as np\n",
    "np.random.seed(42)\n",
    "\n",
    "selector_1 = np.random.choice(300, 150, replace=False)\n",
    "selector_2 = np.random.choice(300, 150, replace=False)"
   ]
  },
  {
   "cell_type": "code",
   "execution_count": 5,
   "id": "e371dd87",
   "metadata": {},
   "outputs": [
    {
     "data": {
      "text/plain": [
       "array([203, 266, 152,   9, 233, 226, 196, 109,   5, 175, 237,  57, 218,\n",
       "        45, 182, 221, 289, 211, 148, 165,  78, 113, 249, 250, 104,  42,\n",
       "       281, 295, 157, 238,  17, 164,  33,  24, 215, 119,   7,  90,  46,\n",
       "        73,  93,  76, 286,  60,  77,  63, 234, 229, 111, 231, 180, 144,\n",
       "       239,  75, 297, 278,  97,  92, 192,  25, 232,  59,   6, 185, 173,\n",
       "        30,  22, 256,  56, 186, 108, 126, 230, 193, 129, 282,  82,  84,\n",
       "        66, 288, 163, 154,  19, 124,  79, 114, 118,  72,  15,  10, 194,\n",
       "       101,  68, 224,  37,  16, 179, 147, 274,  67, 228,  69,  31, 183,\n",
       "       265, 225, 140,  18, 181,  96, 132, 262,  86, 248, 245, 116, 146,\n",
       "       292, 197, 206,  55, 172, 184, 167, 139, 253,  38, 125, 195, 283,\n",
       "       137, 112, 168, 117, 277, 271, 155, 176, 178,   2, 115, 143, 177,\n",
       "       120, 210, 260, 127,  74,  29,  83])"
      ]
     },
     "execution_count": 5,
     "metadata": {},
     "output_type": "execute_result"
    }
   ],
   "source": [
    "selector_1"
   ]
  },
  {
   "cell_type": "code",
   "execution_count": null,
   "id": "c7bf71d1",
   "metadata": {},
   "outputs": [],
   "source": [
    "LEVEL_1 = open(\"rubrics/level_1.txt\").read()\n",
    "LEVEL_2 = open(\"rubrics/level_2.txt\").read()\n",
    "LEVEL_3 = open(\"rubrics/level_3.txt\").read()\n",
    "LEVEL_4 = open(\"rubrics/level_4.txt\").read()\n",
    "LEVEL_5 = open(\"rubrics/level_5.txt\").read()\n",
    "\n",
    "\n",
    "rubric_dict = {}\n",
    "\n",
    "for col, desc in [\n",
    "        (\"Clarify misunderstandings and address questions\", LEVEL_1),\n",
    "        (\"Deepen Disciplinary Understanding\", LEVEL_2),\n",
    "        (\"Develop Higher-Order Thinking\", LEVEL_3),\n",
    "        (\"Enhance Metacognitive Awareness\", LEVEL_4),\n",
    "        (\"Foster Collaborative Knowledge Construction and Social Presence\", LEVEL_5)\n",
    "    ]:\n",
    "    if col not in rubric_dict:\n",
    "        rubric_dict.update({col: {}})\n",
    "    line_descs = desc.split(\"\\n\")\n",
    "    for l in line_descs:\n",
    "        if l.startswith(\"Strong\"):\n",
    "            rubric_dict[col].update(\n",
    "                {2: l.split(\":\")[1].strip()}\n",
    "            )\n",
    "        elif l.startswith(\"Weak\"):\n",
    "            rubric_dict[col].update(\n",
    "                {1: l.split(\":\")[1].strip()}\n",
    "            )\n",
    "        elif l.startswith(\"Not Present\"):\n",
    "            rubric_dict[col].update(\n",
    "                {0: l.split(\":\")[1].strip()}\n",
    "            )\n",
    "        elif l.startswith(\"Not Applicable\"):\n",
    "            rubric_dict[col].update(\n",
    "                {\"NA\": l.split(\":\")[1].strip()}\n",
    "            )\n",
    "\n",
    "print(rubric_dict)\n",
    "\n",
    "\n",
    "all_examples = {\n",
    "    \"Clarify misunderstandings and address questions\": {\n",
    "        0: [], 1: [], 2: [], \"NA\": []\n",
    "    },\n",
    "    \"Deepen Disciplinary Understanding\": {\n",
    "        0: [], 1: [], 2: [], \"NA\": []\n",
    "    },\n",
    "    \"Develop Higher-Order Thinking\": {\n",
    "        0: [], 1: [], 2: [], \"NA\": []\n",
    "    },\n",
    "    \"Enhance Metacognitive Awareness\": {\n",
    "        0: [], 1: [], 2: [], \"NA\": []\n",
    "    },\n",
    "    \"Foster Collaborative Knowledge Construction and Social Presence\": {\n",
    "        0: [], 1: [], 2: [], \"NA\": []\n",
    "    },\n",
    "}\n",
    "\n",
    "\n",
    "counter = 0\n",
    "\n",
    "for i, row in df_data.iterrows():\n",
    "    post = row[\"discussion_post_content_clean\"]\n",
    "    resp = row[\"llama_70b_ta_response\"]\n",
    "    for col, desc in [\n",
    "        (\"Clarify misunderstandings and address questions\", LEVEL_1),\n",
    "        (\"Deepen Disciplinary Understanding\", LEVEL_2),\n",
    "        (\"Develop Higher-Order Thinking\", LEVEL_3),\n",
    "        (\"Enhance Metacognitive Awareness\", LEVEL_4),\n",
    "        (\"Foster Collaborative Knowledge Construction and Social Presence\", LEVEL_5)\n",
    "    ]:\n",
    "        if pandas.notna(row[col]):\n",
    "            if pandas.notna(row[\"course_desc\"]):\n",
    "                course_info = row[\"course_title\"] + \"\\n\\n\" + row[\"course_desc\"]\n",
    "            else:\n",
    "                course_info = row[\"course_title\"]\n",
    "            rating = int(row[col])\n",
    "            if rating == 3:\n",
    "                rating = \"NA\"\n",
    "            if counter not in selector_1:\n",
    "                all_examples[col][rating].append(\"DISCUSSION FORUM POST: \" + post + \"\\nTA RESPONSE: \" + resp)\n",
    "    counter = counter + 1\n",
    "\n",
    "counter = 0\n",
    "for i, row in df_topic_ann.iterrows():\n",
    "    post = row[\"discussion_post_content_clean\"]\n",
    "    resp = row[\"llama_70b_ta_response_with_similar\"]\n",
    "    for col, desc in [\n",
    "        (\"Clarify misunderstandings and address questions\", LEVEL_1),\n",
    "        (\"Deepen Disciplinary Understanding\", LEVEL_2),\n",
    "        (\"Develop Higher-Order Thinking\", LEVEL_3),\n",
    "        (\"Enhance Metacognitive Awareness\", LEVEL_4),\n",
    "        (\"Foster Collaborative Knowledge Construction and Social Presence\", LEVEL_5)\n",
    "    ]:\n",
    "        if pandas.notna(row[col]):\n",
    "            if pandas.notna(row[\"course_desc\"]):\n",
    "                course_info = row[\"course_title\"] + \"\\n\\n\" + row[\"course_desc\"]\n",
    "            else:\n",
    "                course_info = row[\"course_title\"]\n",
    "            rating = int(row[col])\n",
    "            if rating == 3:\n",
    "                rating = \"NA\"\n",
    "            if counter not in selector_2:\n",
    "                all_examples[col][rating].append(\"DISCUSSION FORUM POST: \" + post + \"\\nTA RESPONSE: \" + resp)\n",
    "    counter = counter + 1\n"
   ]
  },
  {
   "cell_type": "code",
   "execution_count": null,
   "id": "e18ef4d3",
   "metadata": {},
   "outputs": [],
   "source": [
    "import dotenv\n",
    "dotenv.load_dotenv(\".env\")\n",
    "\n",
    "lm = dspy.LM(\"openai/gpt-4.1-nano\", cache=False, max_tokens=4000, temperature=0.8)\n",
    "dspy.configure(lm=lm)"
   ]
  },
  {
   "cell_type": "code",
   "execution_count": 45,
   "id": "6a849d50",
   "metadata": {},
   "outputs": [
    {
     "data": {
      "text/plain": [
       "298"
      ]
     },
     "execution_count": 45,
     "metadata": {},
     "output_type": "execute_result"
    }
   ],
   "source": [
    "len(all_examples[\"Deepen Disciplinary Understanding\"][0]) + len(all_examples[\"Deepen Disciplinary Understanding\"][1]) + len(all_examples[\"Deepen Disciplinary Understanding\"][2]) + len(all_examples[\"Deepen Disciplinary Understanding\"][\"NA\"]) "
   ]
  },
  {
   "cell_type": "code",
   "execution_count": 46,
   "id": "06a8ec68",
   "metadata": {},
   "outputs": [],
   "source": [
    "import copy\n",
    "all_synthetic_examples = copy.deepcopy(all_examples)\n",
    "for col in all_examples:\n",
    "    for rating in all_examples[col]:\n",
    "        og_len = len(all_examples[col][rating])\n",
    "        all_synthetic_examples[col][rating] = []\n",
    "        assert len(all_examples[col][rating]) == og_len\n",
    "        assert len(all_synthetic_examples[col][rating]) == 0"
   ]
  },
  {
   "cell_type": "code",
   "execution_count": 47,
   "id": "366f9a1e",
   "metadata": {},
   "outputs": [],
   "source": [
    "from typing import List\n",
    "\n",
    "class DataSynthesizer(dspy.Signature):\n",
    "    \"\"\"Given some student discussion forum posts and the corresponding teaching assistant responses, generate three similar post-response pairs. Make sure to follow the requirements for the teaching assistant response.\"\"\"\n",
    "    example_post_response_pairs: List[str] = dspy.InputField(desc=\"Pairs of discussion forum posts and the corresponding responses.\")\n",
    "    requirement = dspy.InputField(desc=\"The requirement for the synthesized teaching assistant responses.\")\n",
    "    new_post_response_pairs: List[str] = dspy.OutputField(desc=\"Synthetic examples of post-response pairs. Include the prefixes 'DISCUSSION FORUM POST:' and 'TA RESPONSE:'. Follow the requirement for the teaching assistant response in your generations.\")\n",
    "\n",
    "class Rewriter(dspy.Signature):\n",
    "    \"\"\"Given a pair of student discussion forum post and the corresponding teaching assistant response, rewrite the teaching assistant response to fit the specified requirement.\"\"\"\n",
    "    student_post = dspy.InputField()\n",
    "    teaching_assistant_response = dspy.InputField()\n",
    "    requirement = dspy.InputField()\n",
    "    rewritten_response = dspy.OutputField(desc=\"Directly output the rewritten teaching assistant response. Make sure it follows the specific requirement.\")\n",
    "\n",
    "class DiscussionPostSynthesizer(dspy.Module):\n",
    "    def __init__(self, callbacks=None):\n",
    "        super().__init__(callbacks)\n",
    "        self.synthesizer = dspy.ChainOfThought(DataSynthesizer)\n",
    "        self.rewriter = dspy.ChainOfThought(Rewriter)\n",
    "    \n",
    "    def forward(self, example_post_response_pairs, requirement):\n",
    "        all_new_examples = self.synthesizer(example_post_response_pairs=example_post_response_pairs,\n",
    "                                            requirement=requirement).new_post_response_pairs\n",
    "        fin_examples = []\n",
    "        for ex in all_new_examples:\n",
    "            if not ex.startswith(\"DISCUSSION FORUM POST:\"):\n",
    "                continue\n",
    "            if not \"TA RESPONSE:\" in ex:\n",
    "                continue\n",
    "            fin_examples.append(ex)\n",
    "            # post_resp = ex.split(\"TA RESPONSE:\")\n",
    "            # student_post = post_resp[0].replace(\"DISCUSSION FORUM POST:\", \"\").strip()\n",
    "            # ta_response = post_resp[1].strip()\n",
    "            # new_rewritten = self.rewriter(student_post=student_post, teaching_assistant_response=ta_response, requirement=requirement).rewritten_response\n",
    "            # fin_examples.append(\n",
    "            #     \"DISCUSSION FORUM POST: \" + student_post + \"\\nTA RESPONSE: \" + new_rewritten\n",
    "            # )\n",
    "        return fin_examples\n",
    "\n",
    "\n"
   ]
  },
  {
   "cell_type": "code",
   "execution_count": null,
   "id": "b7d8edff",
   "metadata": {},
   "outputs": [],
   "source": [
    "PER_CLASS_NUM = 300\n",
    "\n",
    "import random\n",
    "random.seed(42)\n",
    "\n",
    "synthesizer = DiscussionPostSynthesizer()\n",
    "\n",
    "for col in all_synthetic_examples:\n",
    "    for rating in all_synthetic_examples[col]:\n",
    "        # need to have a certain number of synthetic examples\n",
    "        num_synthetic = PER_CLASS_NUM - len(all_examples[col][rating])\n",
    "        pool = all_examples[col][rating]\n",
    "        if len(pool) < num_synthetic:\n",
    "            pool = all_examples[col][0] + all_examples[col][1] + all_examples[col][2] + all_examples[col][\"NA\"]\n",
    "        while len(all_synthetic_examples[col][rating]) < num_synthetic:\n",
    "            random_sample = random.choices(pool, k=5)\n",
    "            rubric = rubric_dict[col][rating]\n",
    "            all_synthetic_examples[col][rating].extend(synthesizer(example_post_response_pairs=random_sample, requirement=rubric))\n",
    "            # print(len(all_synthetic_examples[col][rating]), \"====\")\n",
    "            "
   ]
  },
  {
   "cell_type": "code",
   "execution_count": 40,
   "id": "6323432c",
   "metadata": {},
   "outputs": [
    {
     "data": {
      "text/plain": [
       "['DISCUSSION FORUM POST: I am trying to understand the difference between fixed and variable costs in business. Can someone explain the concept?\\nTA RESPONSE: In business, fixed costs are expenses that do not change regardless of the level of production or sales, such as rent or salaries. Variable costs, on the other hand, fluctuate with the level of production, such as materials and labor costs that increase with higher output.',\n",
       " 'DISCUSSION FORUM POST: Can you explain the importance of the scientific method in research?\\nTA RESPONSE: The scientific method is a systematic approach used in research to formulate, test, and refine hypotheses. It involves several steps: observation, questioning, forming a hypothesis, conducting experiments, analyzing data, and drawing conclusions. This method ensures that research is conducted in an objective and reproducible manner.',\n",
       " \"DISCUSSION FORUM POST: What are some common themes in Shakespeare's plays?\\nTA RESPONSE: Shakespeare's plays feature several common themes such as love, power, jealousy, betrayal, and the supernatural. These themes are intricately woven into the lives of complex characters, making the stories resonate across time. For instance, 'Macbeth' prominently showcases ambition, while 'Romeo and Juliet' delves into love and its consequences.\",\n",
       " \"DISCUSSION FORUM POST: I am struggling with the key themes in the last chapter of the book. It talks about various psychological theories, but I find it hard to connect them. Can someone help clarify how these theories relate to each other?\\nTA RESPONSE: Hello!\\n\\nThe last chapter covers several key psychological theories that collectively enhance our understanding of human behavior. Each theory brings a unique perspective, and it's interesting to note how they contribute to the broader field of psychology. Exploring the historical context of these theories can also reveal how they have evolved over time. Additionally, I recommend looking into the foundational texts associated with each theory for a comprehensive view.\",\n",
       " 'DISCUSSION FORUM POST: I have been reading about the impact of climate change on agriculture, and I find the statistics overwhelming. What are some effective ways farmers are adapting to these changes?\\nTA RESPONSE: Farmers are adopting various strategies to adapt to the challenges posed by climate change. One effective approach is the implementation of sustainable agricultural practices that enhance soil health and improve water retention. Techniques such as crop rotation and agroforestry are also being utilized to build resilience against changing climate conditions. Additionally, advancements in technology, like precision agriculture, allow for optimized resource management and increased crop yields. Exploring successful case studies can shed light on practical adaptation strategies used in the field.',\n",
       " 'DISCUSSION FORUM POST: Can the theory of relativity really explain everything in physics? I feel like there are still so many unanswered questions.\\nTA RESPONSE: Hello!\\n\\nThe theory of relativity is a groundbreaking framework in physics that has transformed our understanding of space and time. It includes both special and general relativity, which address different aspects of physical phenomena. The insights gained from relativity have led to significant advancements in various fields of science, providing a deeper comprehension of the universe’s workings.',\n",
       " \"DISCUSSION FORUM POST: can someone explain the concept of depreciation in accounting? I find it a bit confusing and would love a simple breakdown of it.\\nTA RESPONSE: Hello!\\n\\nDepreciation in accounting refers to the allocation of the cost of a tangible asset over its useful life. This process reflects the wear and tear on the asset and helps businesses match expenses with revenues accurately. There are various methods of calculating depreciation, including straight-line and declining balance methods. Straight-line depreciation spreads the cost evenly over the asset's lifespan, while declining balance accelerates the expense in the earlier years. Understanding these concepts can help you manage assets effectively in financial reports.\\n\\nBest, [Your Name]\",\n",
       " \"DISCUSSION FORUM POST: I'm not clear on the difference between qualitative and quantitative research methods. Can anyone clarify?\\nTA RESPONSE: Hello!\\n\\nIn research, qualitative and quantitative methods serve different purposes. Qualitative research focuses on understanding concepts, thoughts, or experiences through interviews, observations, and open-ended questions. It provides deeper insights into human behavior and motivations. On the other hand, quantitative research involves numerical data and statistical analysis, allowing researchers to identify patterns and test hypotheses. Both methods are valuable depending on the research question and goals.\\n\\nIf you need more details on specific methods, feel free to ask!\\n\\nBest, [Your Name]\",\n",
       " \"DISCUSSION FORUM POST: I am wondering how to calculate the net present value (NPV) of an investment. Anyone can help?\\nTA RESPONSE: Hello!\\n\\nThe net present value (NPV) is a financial metric used to assess the profitability of an investment. It calculates the difference between the present value of cash inflows and the present value of cash outflows over a period of time. To determine NPV, you can use the formula: NPV = Σ (Cash inflow / (1 + r)^t) - Initial Investment, where 'r' is the discount rate and 't' is the time period. Understanding NPV is crucial for making informed investment decisions and evaluating the potential return on investment.\\n\\nBest, [Your Name]\",\n",
       " \"DISCUSSION FORUM POST: I read in the textbook that the function of a government is to provide for the common defense and promote the general welfare. How does this apply to modern-day governments? Are there examples of governments doing this effectively?\\nTA RESPONSE: Hi! It's great to see your interest in the role of government. The functions of providing for the common defense and promoting general welfare are indeed fundamental to the purpose of government. Many contemporary governments engage in various programs and policies aimed at enhancing social welfare, such as healthcare, education, and infrastructure development. Understanding these roles can lead to interesting discussions about their effectiveness, especially in different political and cultural contexts. What specific examples or criteria do you think are important when evaluating how well a government fulfills these functions?\",\n",
       " \"DISCUSSION FORUM POST: I am currently analyzing the effects of social media on communication. Are there specific studies or theories that can help me understand this phenomenon better? I am particularly interested in any psychological impacts.\\nTA RESPONSE: Hello! Social media's impact on communication is a compelling topic. There's a wealth of research exploring various aspects, including the psychological effects of online interactions. Some theories, such as the Media Richness Theory, discuss how different communication mediums affect understanding and interaction quality. Additionally, the Social Presence Theory can offer insights into how users feel connected in virtual environments. Exploring these frameworks could provide a solid foundation for your analysis. How might you incorporate these theories into your examination of social media's effects?\",\n",
       " \"DISCUSSION FORUM POST: Can someone explain the significance of the Bill of Rights? I have read a bit about it, but I’m not entirely clear on its importance in modern legislation and individual rights.\\nTA RESPONSE: Hi there! The Bill of Rights is a crucial component of the U.S. Constitution, serving to protect individual liberties and limit governmental power. It encompasses the first ten amendments, which guarantee fundamental rights such as freedom of speech, the right to bear arms, and protections against unreasonable searches. The ongoing relevance of the Bill of Rights in contemporary legal debates often leads to discussions about how these rights are interpreted and challenged in today's society. What specific amendments do you find most significant, and why?\",\n",
       " \"DISCUSSION FORUM POST: I'm having trouble understanding the application of the law of supply and demand in real-world scenarios. Can anyone explain how it works in a market with several substitutes?\\nTA RESPONSE: Hello,\\n\\nIt's fantastic to see your interest in the law of supply and demand! Understanding this fundamental concept can significantly enhance your grasp of economics. In general, the law of supply states that as the price of a good increases, the quantity supplied also increases, while the law of demand states that as the price increases, the quantity demanded decreases. This interplay creates the market equilibrium.\\n\\nIn markets with several substitutes, consumers tend to switch to alternatives if the price of one good rises, leading to shifts in both supply and demand curves. It's essential to analyze how these factors can influence market outcomes. If you'd like to explore more about market dynamics or specific case studies, feel free to reach out!\",\n",
       " \"DISCUSSION FORUM POST: Can someone help me understand the concept of corporate bonds? I'm confused about how they differ from stocks and what determines their value.\\nTA RESPONSE: Hi there!\\n\\nThank you for your inquiry about corporate bonds! They are an intriguing financial instrument. Corporate bonds are essentially loans made by investors to corporations. These bonds usually pay interest over time and return the principal at maturity.\\n\\nOne key difference between bonds and stocks is that bonds represent debt, while stocks represent equity ownership in a company. Furthermore, the value of a bond can be influenced by interest rates, credit ratings, and the issuing company's financial health. If you have any further interest in the financial aspects or related instruments, I'm here to help you explore those topics further!\",\n",
       " 'DISCUSSION FORUM POST: I need help with the concept of entropy in thermodynamics and its implications in real-world systems. Can someone break it down for me?\\nTA RESPONSE: Hello!\\n\\nGreat to see your curiosity about entropy in thermodynamics! Entropy is a measure of disorder or randomness in a system. It plays a crucial role in understanding the second law of thermodynamics, which states that the total entropy of an isolated system can never decrease over time.\\n\\nEntropy is significant because it helps us predict the direction of chemical reactions and physical processes. Understanding how entropy affects energy transfer can be beneficial in various applications, including engineering and environmental science. If you wish to discuss specific applications or examples of entropy in real life, feel free to reach out!',\n",
       " \"DISCUSSION FORUM POST: Hi, I was wondering about the differences in the various psychological theories we learned this semester. Specifically, how do they relate to real-world applications?\\nTA RESPONSE: Hello! It's wonderful to hear your interest in the psychological theories we've covered this semester. Each theory provides a unique lens through which we can understand human behavior and mental processes. I recommend reviewing your lecture notes and textbook chapters on these theories to see how they might apply in various contexts. Additionally, engaging in discussions with your peers can offer valuable insights into practical applications. Keep up the great work!\",\n",
       " \"DISCUSSION FORUM POST: Can you explain again how to interpret the results of the regression analysis we did in class? I'm still a bit lost.\\nTA RESPONSE: Hi there! Understanding regression analysis is crucial for our class! I encourage you to revisit the lecture slides and your textbook for detailed explanations and examples. Additionally, practicing with different datasets will help solidify your understanding of how to interpret the results. Remember, analyzing data is a skill that improves with practice!\",\n",
       " \"DISCUSSION FORUM POST: I am struggling with the concept of supply and demand curves. Can you go over it once more?\\nTA RESPONSE: Hello! It's great that you are engaging with the concept of supply and demand curves. These curves are fundamental to understanding market dynamics. I suggest checking out the resources available in our course materials, as they provide clear illustrations and explanations. Also, participating in study groups can enhance your grasp of these concepts through collaborative learning.\"]"
      ]
     },
     "execution_count": 40,
     "metadata": {},
     "output_type": "execute_result"
    }
   ],
   "source": [
    "all_synthetic_examples[\"Clarify misunderstandings and address questions\"][0]"
   ]
  },
  {
   "cell_type": "code",
   "execution_count": 49,
   "id": "3ac92189",
   "metadata": {},
   "outputs": [],
   "source": [
    "import json\n",
    "\n",
    "json.dump(all_synthetic_examples, open(\"all_synth_examples.json\", \"w+\"))\n",
    "json.dump(all_examples, open(\"all_examples.json\", \"w+\"))"
   ]
  },
  {
   "cell_type": "code",
   "execution_count": null,
   "id": "f9afe647",
   "metadata": {},
   "outputs": [],
   "source": []
  }
 ],
 "metadata": {
  "kernelspec": {
   "display_name": "papillon",
   "language": "python",
   "name": "python3"
  },
  "language_info": {
   "codemirror_mode": {
    "name": "ipython",
    "version": 3
   },
   "file_extension": ".py",
   "mimetype": "text/x-python",
   "name": "python",
   "nbconvert_exporter": "python",
   "pygments_lexer": "ipython3",
   "version": "3.10.15"
  }
 },
 "nbformat": 4,
 "nbformat_minor": 5
}
